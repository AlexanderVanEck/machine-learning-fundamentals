{
 "cells": [
  {
   "cell_type": "code",
   "execution_count": 1,
   "metadata": {
    "collapsed": true
   },
   "outputs": [],
   "source": [
    "import matplotlib.pyplot as plot\n",
    "import numpy as np\n",
    "import pandas as pd\n",
    "import random"
   ]
  },
  {
   "cell_type": "code",
   "execution_count": 2,
   "metadata": {},
   "outputs": [],
   "source": [
    "# the following dataset consists of users in the rows and on what ad they will click. This is something we never know\n",
    "# in real life, since we only show 1 ad to 1 user, not multiples.\n",
    "dataset = pd.read_csv('datasets/ads_ctr.csv')"
   ]
  },
  {
   "cell_type": "code",
   "execution_count": 18,
   "metadata": {},
   "outputs": [],
   "source": [
    "ad_rewarded = pd.DataFrame([[0] * len(dataset.columns)], columns=dataset.columns)\n",
    "ad_not_rewarded = pd.DataFrame([[0] * len(dataset.columns)], columns=dataset.columns)\n",
    "total_reward = 0\n",
    "\n",
    "for interaction_index, row in dataset.iterrows():\n",
    "    max_probability_of_reward = 0\n",
    "    for column_name, value in row.iteritems():\n",
    "        times_rewarded = ad_rewarded.get_value(0, column_name)\n",
    "        times_not_rewarded = ad_not_rewarded.get_value(0, column_name)\n",
    "        \n",
    "        # we generate a random value in each distribution of every ad\n",
    "        probability_of_reward = random.betavariate(times_rewarded +1, times_not_rewarded + 1)\n",
    "        \n",
    "        # then we check if this is the highest probability we have of getting a reward\n",
    "        if probability_of_reward > max_probability_of_reward:\n",
    "            max_probability_of_reward = probability_of_reward\n",
    "            ad_with_highest_probability_of_reward = column_name\n",
    "            actual_reward = value\n",
    "           \n",
    "    # now we have selected the ad with the highest probability of reward.\n",
    "    # now we penalise the model so it can be optimised.\n",
    "    # If there actually was a click on this ad we reward it, otherwise we do not.\n",
    "    if actual_reward == 1:\n",
    "        ad_rewarded.loc[0, ad_with_highest_probability_of_reward] += 1\n",
    "    else:\n",
    "        ad_not_rewarded.loc[0, ad_with_highest_probability_of_reward] += 1\n",
    "    total_reward += max_reward"
   ]
  },
  {
   "cell_type": "code",
   "execution_count": 19,
   "metadata": {},
   "outputs": [
    {
     "data": {
      "image/png": "[encoded data removed]",
      "text/plain": [
       "<matplotlib.figure.Figure at 0x108a1a748>"
      ]
     },
     "metadata": {},
     "output_type": "display_data"
    }
   ],
   "source": [
    "ad_rewarded.plot.bar(rot=0)\n",
    "plot.show()"
   ]
  },
  {
   "cell_type": "code",
   "execution_count": null,
   "metadata": {
    "collapsed": true
   },
   "outputs": [],
   "source": []
  }
 ],
 "metadata": {
  "kernelspec": {
   "display_name": "Python 3",
   "language": "python",
   "name": "python3"
  },
  "language_info": {
   "codemirror_mode": {
    "name": "ipython",
    "version": 3
   },
   "file_extension": ".py",
   "mimetype": "text/x-python",
   "name": "python",
   "nbconvert_exporter": "python",
   "pygments_lexer": "ipython3",
   "version": "3.6.0"
  }
 },
 "nbformat": 4,
 "nbformat_minor": 2
}
