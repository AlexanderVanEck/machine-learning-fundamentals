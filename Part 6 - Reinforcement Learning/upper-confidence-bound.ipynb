{
 "cells": [
  {
   "cell_type": "code",
   "execution_count": 1,
   "metadata": {
    "collapsed": true
   },
   "outputs": [],
   "source": [
    "import math\n",
    "import matplotlib.pyplot as plot\n",
    "import numpy as np\n",
    "import pandas as pd"
   ]
  },
  {
   "cell_type": "code",
   "execution_count": 2,
   "metadata": {},
   "outputs": [],
   "source": [
    "# the following dataset consists of users in the rows and on what ad they will click. This is something we never know\n",
    "# in real life, since we only show 1 ad to 1 user, not multiples.\n",
    "dataset = pd.read_csv('datasets/ads_ctr.csv')"
   ]
  },
  {
   "cell_type": "code",
   "execution_count": 3,
   "metadata": {},
   "outputs": [],
   "source": [
    "ad_reward_sum = pd.DataFrame([[0] * len(dataset.columns)], columns=dataset.columns)\n",
    "ad_selections = pd.DataFrame([[0]], index=dataset.columns)\n",
    "total_reward = 0\n",
    "\n",
    "for interaction_index, row in dataset.iterrows():\n",
    "    max_upper_bound = 0\n",
    "    \n",
    "    for column_name, value in row.iteritems():\n",
    "        # select the ad with the highest upper bound, most likely to be the one that's going to be clicked.\n",
    "        times_selected = ad_selections.get_value(column_name, 0)\n",
    "        summed_rewards = ad_reward_sum.get_value(0, column_name)\n",
    "        \n",
    "        # The upper bound is is the average reward up until this point + the confidence interval.\n",
    "        # If this ad was never selected, this means the upper bound is incredibly large, since any\n",
    "        # sum of rewards divided by 0 equal infinity. Otherwise we compute the upperbound/\n",
    "        upper_bound = 1e400 # a very large number\n",
    "        if times_selected > 0:\n",
    "            # average reward is the sum of all the rewards for this ad, divided by the amount of\n",
    "            # times it has been selected.\n",
    "            average_reward = summed_rewards / times_selected\n",
    "            # confidence interval is the square root of 3/2 times the log of the interaction_count divided by\n",
    "            # how many times this ad was selected.\n",
    "            confidence_interval = math.sqrt((3/2) * (math.log(interaction_index + 1) / times_selected))\n",
    "            upper_bound = average_reward + confidence_interval\n",
    "\n",
    "        # of all the ads in this interaction we only want to one with the highest upper bound, so if it's not\n",
    "        # higher than the last upper bound we don't want it.\n",
    "        if upper_bound > max_upper_bound:\n",
    "            max_upper_bound = upper_bound\n",
    "            ad_with_highest_upper_bound = column_name\n",
    "            highest_upper_bound_reward = value\n",
    "           \n",
    "    ad_selections.loc[ad_with_highest_upper_bound, 0] += 1\n",
    "\n",
    "    ad_reward_sum[ad_with_highest_upper_bound] += highest_upper_bound_reward\n",
    "    total_reward += highest_upper_bound_reward"
   ]
  },
  {
   "cell_type": "code",
   "execution_count": 4,
   "metadata": {},
   "outputs": [
    {
     "data": {
      "image/png": "[encoded data removed]",
      "text/plain": [
       "<matplotlib.figure.Figure at 0x10af975f8>"
      ]
     },
     "metadata": {},
     "output_type": "display_data"
    }
   ],
   "source": [
    "ad_selections.plot.bar(rot=0)\n",
    "plot.show()"
   ]
  },
  {
   "cell_type": "code",
   "execution_count": null,
   "metadata": {},
   "outputs": [],
   "source": []
  },
  {
   "cell_type": "code",
   "execution_count": null,
   "metadata": {
    "collapsed": true
   },
   "outputs": [],
   "source": []
  }
 ],
 "metadata": {
  "kernelspec": {
   "display_name": "Python 3",
   "language": "python",
   "name": "python3"
  },
  "language_info": {
   "codemirror_mode": {
    "name": "ipython",
    "version": 3
   },
   "file_extension": ".py",
   "mimetype": "text/x-python",
   "name": "python",
   "nbconvert_exporter": "python",
   "pygments_lexer": "ipython3",
   "version": "3.6.0"
  }
 },
 "nbformat": 4,
 "nbformat_minor": 2
}
