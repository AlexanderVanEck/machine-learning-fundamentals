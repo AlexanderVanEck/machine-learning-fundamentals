{
 "cells": [
  {
   "cell_type": "code",
   "execution_count": 81,
   "metadata": {
    "collapsed": true
   },
   "outputs": [],
   "source": [
    "import matplotlib.pyplot as plot\n",
    "import numpy as np\n",
    "import pandas as pd\n",
    "from sklearn.cross_validation import train_test_split\n",
    "from sklearn.linear_model import LinearRegression\n",
    "from sklearn.preprocessing import PolynomialFeatures"
   ]
  },
  {
   "cell_type": "code",
   "execution_count": 96,
   "metadata": {},
   "outputs": [],
   "source": [
    "dataset = pd.read_csv('datasets/position_salaries.csv')\n",
    "# the first column is a text field which directly corrosponds to the second column, it is\n",
    "# therefore not used. For regressors we need the dependant variables to be in a matrix, \n",
    "# the upperbound is ignored so therefore we can do 1:2. For the independenant variable we\n",
    "# want an array of values.\n",
    "X = dataset.iloc[:, 1:2].values\n",
    "y = dataset.iloc[:, 2].values\n"
   ]
  },
  {
   "cell_type": "code",
   "execution_count": 83,
   "metadata": {
    "collapsed": true
   },
   "outputs": [],
   "source": [
    "# since our data is so small, we are not going to use any train/test split.\n",
    "#X_train, X_test, y_train, y_test = train_test_split(X, y, test_size=1/5, random_state=0)"
   ]
  },
  {
   "cell_type": "code",
   "execution_count": 84,
   "metadata": {
    "collapsed": true
   },
   "outputs": [],
   "source": [
    "# first we fit a straight line, to see how well our polynomial performs compared to it.\n",
    "linear_regressor = LinearRegression()\n",
    "linear_regressor = linear_regressor.fit(X, y)"
   ]
  },
  {
   "cell_type": "code",
   "execution_count": 92,
   "metadata": {},
   "outputs": [],
   "source": [
    "# now we add a polynomial to our dataset, so we can use it in our LinearRegression regressor.\n",
    "# PolynomialFeatures adds the intercept and x1^2 to the n-th degree. We have to be careful for\n",
    "# overfitting though...\n",
    "polynomial_features = PolynomialFeatures(degree=4)\n",
    "X_polynomial = polynomial_features.fit_transform(X)\n",
    "polynomial_regressor = LinearRegression()\n",
    "polynomial_regressor = polynomial_regressor.fit(X_polynomial, y)"
   ]
  },
  {
   "cell_type": "code",
   "execution_count": 93,
   "metadata": {},
   "outputs": [
    {
     "data": {
      "image/png": "[encoded data removed]",
      "text/plain": [
       "<matplotlib.figure.Figure at 0x10c734208>"
      ]
     },
     "metadata": {},
     "output_type": "display_data"
    }
   ],
   "source": [
    "# first we reshape our job levels to multiple steps, since it's linear anyway, so we get more\n",
    "# detail in our model.\n",
    "X_grid = np.arange(min(X), max(X), 0.1)\n",
    "X_grid = X_grid.reshape((len(X_grid), 1))\n",
    "\n",
    "# now we visualise both regressor to see the differences easily.\n",
    "plot.title('Salaries vs. position level')\n",
    "plot.xlabel('Position level')\n",
    "plot.ylabel('Salary')\n",
    "plot.scatter(X, y, color='red')\n",
    "plot.plot(X, linear_regressor.predict(X), color='blue')\n",
    "plot.plot(X_grid, polynomial_regressor.predict(polynomial_features.fit_transform(X_grid)), color='purple')\n",
    "plot.show()"
   ]
  },
  {
   "cell_type": "code",
   "execution_count": null,
   "metadata": {},
   "outputs": [],
   "source": []
  },
  {
   "cell_type": "code",
   "execution_count": null,
   "metadata": {
    "collapsed": true
   },
   "outputs": [],
   "source": []
  }
 ],
 "metadata": {
  "kernelspec": {
   "display_name": "Python 3",
   "language": "python",
   "name": "python3"
  },
  "language_info": {
   "codemirror_mode": {
    "name": "ipython",
    "version": 3
   },
   "file_extension": ".py",
   "mimetype": "text/x-python",
   "name": "python",
   "nbconvert_exporter": "python",
   "pygments_lexer": "ipython3",
   "version": "3.6.0"
  }
 },
 "nbformat": 4,
 "nbformat_minor": 2
}
