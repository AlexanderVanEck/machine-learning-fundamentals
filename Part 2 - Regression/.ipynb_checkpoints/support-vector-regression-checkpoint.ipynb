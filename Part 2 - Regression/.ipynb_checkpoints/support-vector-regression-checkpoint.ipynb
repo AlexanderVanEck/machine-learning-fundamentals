{
 "cells": [
  {
   "cell_type": "code",
   "execution_count": 51,
   "metadata": {
    "collapsed": true
   },
   "outputs": [],
   "source": [
    "import pandas as pd\n",
    "import matplotlib.pyplot as plot\n",
    "from sklearn.preprocessing import StandardScaler\n",
    "from sklearn.svm import SVR"
   ]
  },
  {
   "cell_type": "code",
   "execution_count": 52,
   "metadata": {
    "collapsed": true
   },
   "outputs": [],
   "source": [
    "dataset = pd.read_csv('datasets/position_salaries.csv')\n",
    "X = dataset.iloc[:, 1:2].values\n",
    "y = dataset.iloc[:, 2:3].values"
   ]
  },
  {
   "cell_type": "code",
   "execution_count": 53,
   "metadata": {},
   "outputs": [
    {
     "name": "stderr",
     "output_type": "stream",
     "text": [
      "/Users/Alexander/Virtualenvs/ml-data-processing/lib/python3.6/site-packages/sklearn/utils/validation.py:444: DataConversionWarning: Data with input dtype int64 was converted to float64 by StandardScaler.\n",
      "  warnings.warn(msg, DataConversionWarning)\n"
     ]
    }
   ],
   "source": [
    "# when looking at our dataset we see we need to do some feature scaling, our dependant \n",
    "# variable would dominate our independant variable. For this we create two different\n",
    "# scalers, since we don't want to leak any information.\n",
    "x_scaler = StandardScaler()\n",
    "y_scaler = StandardScaler()\n",
    "scaled_X = x_scaler.fit_transform(X)\n",
    "scaled_y = y_scaler.fit_transform(y)"
   ]
  },
  {
   "cell_type": "code",
   "execution_count": 54,
   "metadata": {},
   "outputs": [
    {
     "name": "stderr",
     "output_type": "stream",
     "text": [
      "/Users/Alexander/Virtualenvs/ml-data-processing/lib/python3.6/site-packages/sklearn/utils/validation.py:547: DataConversionWarning: A column-vector y was passed when a 1d array was expected. Please change the shape of y to (n_samples, ), for example using ravel().\n",
      "  y = column_or_1d(y, warn=True)\n"
     ]
    }
   ],
   "source": [
    "# Here we use a Support Vector Regression model. default is uses a Gaussian kernel to\n",
    "# determine our model. This means outliers have less of an impact on the final result.\n",
    "# It's also possible to use the linear or polynimoal kernel, which yields the same results as\n",
    "# LinearRegression, but with outliers being handled differently.\n",
    "regressor = SVR()\n",
    "regressor = regressor.fit(scaled_X, scaled_y)"
   ]
  },
  {
   "cell_type": "code",
   "execution_count": 56,
   "metadata": {},
   "outputs": [
    {
     "data": {
      "image/png": "[encoded data removed]",
      "text/plain": [
       "<matplotlib.figure.Figure at 0x115af8c18>"
      ]
     },
     "metadata": {},
     "output_type": "display_data"
    }
   ],
   "source": [
    "# now we plot the model to see the outcome. Since we used feature fitting it makes more sense\n",
    "# to use inverse_transform here, so the graph uses the right values.\n",
    "plot.scatter(X, y, color='red')\n",
    "plot.plot(\n",
    "    x_scaler.inverse_transform(scaled_X), \n",
    "    y_scaler.inverse_transform(regressor.predict(scaled_X)), \n",
    "    color='blue'\n",
    ")\n",
    "plot.xlabel('Job level')\n",
    "plot.ylabel('Salary')\n",
    "plot.title('Job level vs. Salary')\n",
    "plot.show()"
   ]
  },
  {
   "cell_type": "code",
   "execution_count": null,
   "metadata": {
    "collapsed": true
   },
   "outputs": [],
   "source": []
  }
 ],
 "metadata": {
  "kernelspec": {
   "display_name": "Python 3",
   "language": "python",
   "name": "python3"
  },
  "language_info": {
   "codemirror_mode": {
    "name": "ipython",
    "version": 3
   },
   "file_extension": ".py",
   "mimetype": "text/x-python",
   "name": "python",
   "nbconvert_exporter": "python",
   "pygments_lexer": "ipython3",
   "version": "3.6.0"
  }
 },
 "nbformat": 4,
 "nbformat_minor": 2
}
