{
 "cells": [
  {
   "cell_type": "code",
   "execution_count": 1,
   "metadata": {},
   "outputs": [
    {
     "name": "stderr",
     "output_type": "stream",
     "text": [
      "Using TensorFlow backend.\n"
     ]
    }
   ],
   "source": [
    "from keras.models import Sequential\n",
    "from keras.layers import Dense\n",
    "import numpy as np\n",
    "import pandas as pd\n",
    "from sklearn.metrics import confusion_matrix\n",
    "from sklearn.model_selection import train_test_split\n",
    "from sklearn.preprocessing import (\n",
    "    LabelEncoder, OneHotEncoder, StandardScaler\n",
    ")"
   ]
  },
  {
   "cell_type": "code",
   "execution_count": 14,
   "metadata": {},
   "outputs": [],
   "source": [
    "dataset = pd.read_csv('datasets/churn.csv')\n",
    "X = dataset.iloc[:, range(3, 13)].values\n",
    "y = dataset.iloc[:, -1].values"
   ]
  },
  {
   "cell_type": "code",
   "execution_count": 16,
   "metadata": {},
   "outputs": [],
   "source": [
    "# because we have categorical values we need to encode them\n",
    "country_label_encoder = LabelEncoder()\n",
    "X[:, 1] = country_label_encoder.fit_transform(X[:, 1])\n",
    "\n",
    "gender_label_encoder = LabelEncoder()\n",
    "X[:, 2] = gender_label_encoder.fit_transform(X[:, 2])\n",
    "\n",
    "# now we one hot encode them for categorical data\n",
    "# that has more than 2 values. (only the country in column 1)\n",
    "one_hot_encoder = OneHotEncoder(categorical_features=[1])\n",
    "X = one_hot_encoder.fit_transform(X).toarray()\n",
    "\n",
    "# to avoid the dummy variable trap we remove one variable\n",
    "X = X[:, 1:]"
   ]
  },
  {
   "cell_type": "code",
   "execution_count": 4,
   "metadata": {
    "collapsed": true
   },
   "outputs": [],
   "source": [
    "X_train, X_test, y_train, y_test = train_test_split(\n",
    "    X, y, test_size=1/5, random_state=0\n",
    ")"
   ]
  },
  {
   "cell_type": "code",
   "execution_count": 5,
   "metadata": {
    "collapsed": true
   },
   "outputs": [],
   "source": [
    "# now we have to make sure all of our values are in the same scale.\n",
    "scaler = StandardScaler()\n",
    "X_train = scaler.fit_transform(X_train)\n",
    "X_test = scaler.transform(X_test)"
   ]
  },
  {
   "cell_type": "code",
   "execution_count": 6,
   "metadata": {},
   "outputs": [],
   "source": [
    "# Create the simple classifier neural network with 3 layers;\n",
    "# - Input Layer\n",
    "#    * We input our feature set into the NN, so the first layer should accept 11 features.\n",
    "# - First Layer\n",
    "#    * The activation function is set to `relu` which is the most popular neuron activation function.\n",
    "#    * The amount of neurons in this layer is not an exact science, more an art. A good starting point is\n",
    "#      to take the dimensions of the input layer + the output layer divided by 2. (11 + 1) / 2 = 6 neurons\n",
    "#    * The initialisation function is set to `uniform` to initialise the first amount of weights to a random\n",
    "#      number close to zero.\n",
    "# - Second layer\n",
    "#    * Takes the output from layer one and applies the same `init` and `activiation` arguments. This is \n",
    "#      to try to get the model to generalise and not be too dumb, we have to be careful of overfitting though.\n",
    "# - Output layer\n",
    "#    * Since our preferred output is only one binary dimension we need an output layer that uses an activation\n",
    "#      function that gives us a value between 0..1, the sigmoid function gives us this value. Which is actually\n",
    "#      a probability of it being 0 or 1.\n",
    "classifier = Sequential([\n",
    "    Dense(activation=\"relu\", input_dim=11, units=6, kernel_initializer=\"uniform\"),\n",
    "    Dense(activation=\"relu\", units=6, kernel_initializer=\"uniform\"),\n",
    "    Dense(activation=\"sigmoid\", units=1, kernel_initializer=\"uniform\")\n",
    "])\n",
    "\n",
    "# Now we finish setting up the compiler by adding our optimizer and loss function to use for updating the weights.\n",
    "# we also determine which metrics we want to track as being optimised.\n",
    "# - Adam optimizer is a Stochastic optimizer which means it adjusts the weights on every row/round or \n",
    "#   batch of the dataset.\n",
    "# - The binary_crossentropy loss function determines the amount of distance between the predicted and the actual value\n",
    "#   and adjusts the weight given that `cost`.\n",
    "# - the metric we are trying to improve is the accuracy of the model\n",
    "classifier.compile(optimizer='adam', loss='binary_crossentropy', metrics=['accuracy'])"
   ]
  },
  {
   "cell_type": "code",
   "execution_count": 7,
   "metadata": {},
   "outputs": [
    {
     "name": "stdout",
     "output_type": "stream",
     "text": [
      "Epoch 1/100\n",
      "8000/8000 [==============================] - 2s - loss: 0.4840 - acc: 0.7957     \n",
      "Epoch 2/100\n",
      "8000/8000 [==============================] - 2s - loss: 0.4275 - acc: 0.7960     \n",
      "Epoch 3/100\n",
      "8000/8000 [==============================] - 2s - loss: 0.4222 - acc: 0.7960     \n",
      "Epoch 4/100\n",
      "8000/8000 [==============================] - 3s - loss: 0.4187 - acc: 0.8177     \n",
      "Epoch 5/100\n",
      "8000/8000 [==============================] - 3s - loss: 0.4161 - acc: 0.8247     \n",
      "Epoch 6/100\n",
      "8000/8000 [==============================] - 3s - loss: 0.4143 - acc: 0.8281     \n",
      "Epoch 7/100\n",
      "8000/8000 [==============================] - 2s - loss: 0.4130 - acc: 0.8310     \n",
      "Epoch 8/100\n",
      "8000/8000 [==============================] - 2s - loss: 0.4119 - acc: 0.8320     \n",
      "Epoch 9/100\n",
      "8000/8000 [==============================] - 2s - loss: 0.4110 - acc: 0.8324     \n",
      "Epoch 10/100\n",
      "8000/8000 [==============================] - 2s - loss: 0.4097 - acc: 0.8337     \n",
      "Epoch 11/100\n",
      "8000/8000 [==============================] - 2s - loss: 0.4092 - acc: 0.8335     \n",
      "Epoch 12/100\n",
      "8000/8000 [==============================] - 2s - loss: 0.4087 - acc: 0.8326     \n",
      "Epoch 13/100\n",
      "8000/8000 [==============================] - 3s - loss: 0.4078 - acc: 0.8347     \n",
      "Epoch 14/100\n",
      "8000/8000 [==============================] - 3s - loss: 0.4075 - acc: 0.8339     \n",
      "Epoch 15/100\n",
      "8000/8000 [==============================] - 3s - loss: 0.4062 - acc: 0.8362     \n",
      "Epoch 16/100\n",
      "8000/8000 [==============================] - 3s - loss: 0.4056 - acc: 0.8339     \n",
      "Epoch 17/100\n",
      "8000/8000 [==============================] - 3s - loss: 0.4062 - acc: 0.8350     \n",
      "Epoch 18/100\n",
      "8000/8000 [==============================] - 3s - loss: 0.4054 - acc: 0.8351     \n",
      "Epoch 19/100\n",
      "8000/8000 [==============================] - 2s - loss: 0.4053 - acc: 0.8364     \n",
      "Epoch 20/100\n",
      "8000/8000 [==============================] - 3s - loss: 0.4049 - acc: 0.8366     \n",
      "Epoch 21/100\n",
      "8000/8000 [==============================] - 3s - loss: 0.4047 - acc: 0.8344     \n",
      "Epoch 22/100\n",
      "8000/8000 [==============================] - 3s - loss: 0.4043 - acc: 0.8364     \n",
      "Epoch 23/100\n",
      "8000/8000 [==============================] - 4s - loss: 0.4037 - acc: 0.8360     \n",
      "Epoch 24/100\n",
      "8000/8000 [==============================] - 4s - loss: 0.4040 - acc: 0.8352     \n",
      "Epoch 25/100\n",
      "8000/8000 [==============================] - 3s - loss: 0.4036 - acc: 0.8349     \n",
      "Epoch 26/100\n",
      "8000/8000 [==============================] - 3s - loss: 0.4033 - acc: 0.8352     \n",
      "Epoch 27/100\n",
      "8000/8000 [==============================] - 3s - loss: 0.4033 - acc: 0.8351     \n",
      "Epoch 28/100\n",
      "8000/8000 [==============================] - 3s - loss: 0.4030 - acc: 0.8352     \n",
      "Epoch 29/100\n",
      "8000/8000 [==============================] - 2s - loss: 0.4034 - acc: 0.8364     \n",
      "Epoch 30/100\n",
      "8000/8000 [==============================] - 2s - loss: 0.4030 - acc: 0.8369     \n",
      "Epoch 31/100\n",
      "8000/8000 [==============================] - 2s - loss: 0.4027 - acc: 0.8357     \n",
      "Epoch 32/100\n",
      "8000/8000 [==============================] - 2s - loss: 0.4025 - acc: 0.8340     \n",
      "Epoch 33/100\n",
      "8000/8000 [==============================] - 2s - loss: 0.4026 - acc: 0.8344     \n",
      "Epoch 34/100\n",
      "8000/8000 [==============================] - 3s - loss: 0.4023 - acc: 0.8355     \n",
      "Epoch 35/100\n",
      "8000/8000 [==============================] - 2s - loss: 0.4024 - acc: 0.8359     \n",
      "Epoch 36/100\n",
      "8000/8000 [==============================] - 2s - loss: 0.4024 - acc: 0.8362     \n",
      "Epoch 37/100\n",
      "8000/8000 [==============================] - 4s - loss: 0.4020 - acc: 0.8350     \n",
      "Epoch 38/100\n",
      "8000/8000 [==============================] - 3s - loss: 0.4019 - acc: 0.8356     \n",
      "Epoch 39/100\n",
      "8000/8000 [==============================] - 4s - loss: 0.4022 - acc: 0.8351     \n",
      "Epoch 40/100\n",
      "8000/8000 [==============================] - 4s - loss: 0.4020 - acc: 0.8365     \n",
      "Epoch 41/100\n",
      "8000/8000 [==============================] - 4s - loss: 0.4019 - acc: 0.8356     \n",
      "Epoch 42/100\n",
      "8000/8000 [==============================] - 3s - loss: 0.4016 - acc: 0.8349     \n",
      "Epoch 43/100\n",
      "8000/8000 [==============================] - 2s - loss: 0.4020 - acc: 0.8366     \n",
      "Epoch 44/100\n",
      "8000/8000 [==============================] - 3s - loss: 0.4019 - acc: 0.8361     \n",
      "Epoch 45/100\n",
      "8000/8000 [==============================] - 3s - loss: 0.4017 - acc: 0.8350     \n",
      "Epoch 46/100\n",
      "8000/8000 [==============================] - 2s - loss: 0.4017 - acc: 0.8355     \n",
      "Epoch 47/100\n",
      "8000/8000 [==============================] - 2s - loss: 0.4021 - acc: 0.8350     \n",
      "Epoch 48/100\n",
      "8000/8000 [==============================] - 2s - loss: 0.4012 - acc: 0.8364     \n",
      "Epoch 49/100\n",
      "8000/8000 [==============================] - 3s - loss: 0.4014 - acc: 0.8359     \n",
      "Epoch 50/100\n",
      "8000/8000 [==============================] - 3s - loss: 0.4015 - acc: 0.8350     \n",
      "Epoch 51/100\n",
      "8000/8000 [==============================] - 3s - loss: 0.4012 - acc: 0.8337     \n",
      "Epoch 52/100\n",
      "8000/8000 [==============================] - 2s - loss: 0.4014 - acc: 0.8351     \n",
      "Epoch 53/100\n",
      "8000/8000 [==============================] - 2s - loss: 0.4012 - acc: 0.8361     \n",
      "Epoch 54/100\n",
      "8000/8000 [==============================] - 2s - loss: 0.4005 - acc: 0.8359     \n",
      "Epoch 55/100\n",
      "8000/8000 [==============================] - 3s - loss: 0.4008 - acc: 0.8342     \n",
      "Epoch 56/100\n",
      "8000/8000 [==============================] - 3s - loss: 0.4004 - acc: 0.8355     \n",
      "Epoch 57/100\n",
      "8000/8000 [==============================] - 3s - loss: 0.4002 - acc: 0.8347     \n",
      "Epoch 58/100\n",
      "8000/8000 [==============================] - 3s - loss: 0.4001 - acc: 0.8360     \n",
      "Epoch 59/100\n",
      "8000/8000 [==============================] - 3s - loss: 0.3999 - acc: 0.8354     \n",
      "Epoch 60/100\n",
      "8000/8000 [==============================] - 3s - loss: 0.3997 - acc: 0.8359     \n",
      "Epoch 61/100\n",
      "8000/8000 [==============================] - 3s - loss: 0.3995 - acc: 0.8374     \n",
      "Epoch 62/100\n",
      "8000/8000 [==============================] - 3s - loss: 0.3992 - acc: 0.8379     \n",
      "Epoch 63/100\n",
      "8000/8000 [==============================] - 3s - loss: 0.3995 - acc: 0.8355     \n",
      "Epoch 64/100\n",
      "8000/8000 [==============================] - 3s - loss: 0.3994 - acc: 0.8354     \n",
      "Epoch 65/100\n",
      "8000/8000 [==============================] - 3s - loss: 0.3994 - acc: 0.8366     \n",
      "Epoch 66/100\n",
      "8000/8000 [==============================] - 3s - loss: 0.3993 - acc: 0.8372     \n",
      "Epoch 67/100\n",
      "8000/8000 [==============================] - 3s - loss: 0.3991 - acc: 0.8362     \n",
      "Epoch 68/100\n",
      "8000/8000 [==============================] - 3s - loss: 0.3993 - acc: 0.8371     \n",
      "Epoch 69/100\n",
      "8000/8000 [==============================] - 3s - loss: 0.3992 - acc: 0.8354     \n",
      "Epoch 70/100\n",
      "8000/8000 [==============================] - 3s - loss: 0.3991 - acc: 0.8367     \n",
      "Epoch 71/100\n",
      "8000/8000 [==============================] - 3s - loss: 0.3987 - acc: 0.8362     \n",
      "Epoch 72/100\n",
      "8000/8000 [==============================] - 3s - loss: 0.3988 - acc: 0.8354     \n",
      "Epoch 73/100\n",
      "8000/8000 [==============================] - 3s - loss: 0.3989 - acc: 0.8366     \n",
      "Epoch 74/100\n",
      "8000/8000 [==============================] - 2s - loss: 0.3992 - acc: 0.8371     \n",
      "Epoch 75/100\n",
      "8000/8000 [==============================] - 3s - loss: 0.3991 - acc: 0.8360     \n",
      "Epoch 76/100\n",
      "8000/8000 [==============================] - 3s - loss: 0.3992 - acc: 0.8360     \n",
      "Epoch 77/100\n",
      "8000/8000 [==============================] - 4s - loss: 0.3990 - acc: 0.8351     \n",
      "Epoch 78/100\n",
      "8000/8000 [==============================] - 4s - loss: 0.3990 - acc: 0.8370     \n",
      "Epoch 79/100\n",
      "8000/8000 [==============================] - 3s - loss: 0.3986 - acc: 0.8350     \n",
      "Epoch 80/100\n",
      "8000/8000 [==============================] - 2s - loss: 0.3990 - acc: 0.8372     \n",
      "Epoch 81/100\n",
      "8000/8000 [==============================] - 2s - loss: 0.3985 - acc: 0.8360     \n",
      "Epoch 82/100\n",
      "8000/8000 [==============================] - 2s - loss: 0.3990 - acc: 0.8349     \n",
      "Epoch 83/100\n",
      "8000/8000 [==============================] - 2s - loss: 0.3990 - acc: 0.8360     \n",
      "Epoch 84/100\n",
      "8000/8000 [==============================] - 2s - loss: 0.3989 - acc: 0.8374     \n",
      "Epoch 85/100\n",
      "8000/8000 [==============================] - 2s - loss: 0.3985 - acc: 0.8356     \n",
      "Epoch 86/100\n",
      "8000/8000 [==============================] - 2s - loss: 0.3986 - acc: 0.8357     \n",
      "Epoch 87/100\n"
     ]
    },
    {
     "name": "stdout",
     "output_type": "stream",
     "text": [
      "8000/8000 [==============================] - 2s - loss: 0.3990 - acc: 0.8361     \n",
      "Epoch 88/100\n",
      "8000/8000 [==============================] - 2s - loss: 0.3987 - acc: 0.8375     \n",
      "Epoch 89/100\n",
      "8000/8000 [==============================] - 2s - loss: 0.3989 - acc: 0.8369     \n",
      "Epoch 90/100\n",
      "8000/8000 [==============================] - 2s - loss: 0.3988 - acc: 0.8367     \n",
      "Epoch 91/100\n",
      "8000/8000 [==============================] - 2s - loss: 0.3992 - acc: 0.8370     \n",
      "Epoch 92/100\n",
      "8000/8000 [==============================] - 2s - loss: 0.3989 - acc: 0.8357     \n",
      "Epoch 93/100\n",
      "8000/8000 [==============================] - 2s - loss: 0.3986 - acc: 0.8355     \n",
      "Epoch 94/100\n",
      "8000/8000 [==============================] - 3s - loss: 0.3986 - acc: 0.8379     \n",
      "Epoch 95/100\n",
      "8000/8000 [==============================] - 3s - loss: 0.3988 - acc: 0.8366     \n",
      "Epoch 96/100\n",
      "8000/8000 [==============================] - 3s - loss: 0.3988 - acc: 0.8366     \n",
      "Epoch 97/100\n",
      "8000/8000 [==============================] - 3s - loss: 0.3986 - acc: 0.8376     \n",
      "Epoch 98/100\n",
      "8000/8000 [==============================] - 3s - loss: 0.3987 - acc: 0.8370     \n",
      "Epoch 99/100\n",
      "8000/8000 [==============================] - 2s - loss: 0.3986 - acc: 0.8359     \n",
      "Epoch 100/100\n",
      "8000/8000 [==============================] - 2s - loss: 0.3985 - acc: 0.8370     \n"
     ]
    },
    {
     "data": {
      "text/plain": [
       "<keras.callbacks.History at 0x1184d98d0>"
      ]
     },
     "execution_count": 7,
     "metadata": {},
     "output_type": "execute_result"
    }
   ],
   "source": [
    "# Now we train the neural network by fitting our training data to it\n",
    "# We give a batch size of 10 rows before updating the weights and decide to do this for 100 epochs, meaning we go\n",
    "# throught the dataset 100 times before the model is trained.\n",
    "classifier.fit(X_train, y_train, batch_size=10, epochs=100)"
   ]
  },
  {
   "cell_type": "code",
   "execution_count": 8,
   "metadata": {},
   "outputs": [
    {
     "data": {
      "text/plain": [
       "array([[1545,   50],\n",
       "       [ 265,  140]])"
      ]
     },
     "execution_count": 8,
     "metadata": {},
     "output_type": "execute_result"
    }
   ],
   "source": [
    "# now we check the confusion matric to see how well the NN is trained on our test set.\n",
    "y_prediction = classifier.predict(X_test)\n",
    "y_prediction = y_prediction > 0.5\n",
    "confusion_matrix(y_test, y_prediction)"
   ]
  },
  {
   "cell_type": "code",
   "execution_count": null,
   "metadata": {
    "collapsed": true
   },
   "outputs": [],
   "source": []
  }
 ],
 "metadata": {
  "kernelspec": {
   "display_name": "Python 3",
   "language": "python",
   "name": "python3"
  },
  "language_info": {
   "codemirror_mode": {
    "name": "ipython",
    "version": 3
   },
   "file_extension": ".py",
   "mimetype": "text/x-python",
   "name": "python",
   "nbconvert_exporter": "python",
   "pygments_lexer": "ipython3",
   "version": "3.6.0"
  }
 },
 "nbformat": 4,
 "nbformat_minor": 2
}
