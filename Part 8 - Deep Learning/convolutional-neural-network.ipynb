{
 "cells": [
  {
   "cell_type": "code",
   "execution_count": 1,
   "metadata": {},
   "outputs": [
    {
     "name": "stderr",
     "output_type": "stream",
     "text": [
      "Using TensorFlow backend.\n"
     ]
    }
   ],
   "source": [
    "from keras.preprocessing.image import ImageDataGenerator\n",
    "from keras.models import Sequential\n",
    "from keras.layers import Conv2D, Dense, Flatten, MaxPooling2D"
   ]
  },
  {
   "cell_type": "code",
   "execution_count": null,
   "metadata": {},
   "outputs": [],
   "source": [
    "# We'll define a classifier that takes our images and convolves then, then feeds the obtained feature maps\n",
    "# to a neural network that then classifies the images into a binary class.\n",
    "\n",
    "# First Layer\n",
    "# - Convolve the image from 64x63 in 3 channels (RGB) with the relu layer and create random feature filters\n",
    "# Second Layer\n",
    "# - Pool the data from the previous layer and only leave the max value of a feature set, this prevents noise.\n",
    "# Third Layer\n",
    "# - Convolve the resulting data again with random feature filters, this seems to have a positive effect on accuracy.\n",
    "# Fourth Layer\n",
    "# - Pool the resulting data again and only leave the maximum value of a feature set, again preventing noise.\n",
    "# Fifth Layer\n",
    "# - Flatten the data into a single dimension array from the grid we've been working in\n",
    "# Sixt layer\n",
    "# - Now we use an input layer with our 64x64=128 data points as the first layer of our neural network, and apply\n",
    "#   and apply the relu activation function.\n",
    "# Final Layer\n",
    "# - take the output of the neural network and give a probability of the network having recognised the image.\n",
    "classifier = Sequential([\n",
    "    Conv2D(32, (3, 3), input_shape=(64, 64, 3), activation='relu'),\n",
    "    MaxPooling2D(pool_size=(2,2)),\n",
    "    Conv2D(32, (3, 3), activation='relu'),\n",
    "    MaxPooling2D(pool_size=(2,2)),\n",
    "    Flatten(),\n",
    "    Dense(units=128, activation='relu'),\n",
    "    Dense(units=1, activation='sigmoid')\n",
    "])\n",
    "classifier.compile(optimizer='adam', loss='binary_crossentropy', metrics=['accuracy'])"
   ]
  },
  {
   "cell_type": "code",
   "execution_count": null,
   "metadata": {
    "collapsed": true
   },
   "outputs": [],
   "source": [
    "# first we should generate more training data to have our network recognise images even if they are rescaled, sheared,\n",
    "# zoomed or flipped.\n",
    "\n",
    "# Initialise the image generators\n",
    "train_data_generator = ImageDataGenerator(\n",
    "    rescale=1./255,\n",
    "    shear_range=0.2,\n",
    "    zoom_range=0.2,\n",
    "    horizontal_flip=True\n",
    ")\n",
    "test_data_generator = ImageDataGenerator(rescale=1./255)"
   ]
  },
  {
   "cell_type": "code",
   "execution_count": null,
   "metadata": {},
   "outputs": [],
   "source": [
    "# generate the training and test set from existing images and generated ones.\n",
    "training_set = train_data_generator.flow_from_directory(\n",
    "    'datasets/training_set',\n",
    "    target_size=(64, 64),\n",
    "    batch_size=32,\n",
    "    class_mode='binary'\n",
    ")\n",
    "test_set = test_data_generator.flow_from_directory(\n",
    "    'datasets/test_set',\n",
    "    target_size=(64, 64),\n",
    "    batch_size=32,\n",
    "    class_mode='binary'\n",
    ")"
   ]
  },
  {
   "cell_type": "code",
   "execution_count": null,
   "metadata": {},
   "outputs": [],
   "source": [
    "# now we fit the images to the classifier\n",
    "classifier.fit_generator(\n",
    "    training_set,\n",
    "    steps_per_epoch=1,\n",
    "    nb_epoch=5,\n",
    "    validation_data=test_set,\n",
    "    validation_steps=2000\n",
    ")"
   ]
  },
  {
   "cell_type": "code",
   "execution_count": null,
   "metadata": {
    "collapsed": true
   },
   "outputs": [],
   "source": []
  }
 ],
 "metadata": {
  "kernelspec": {
   "display_name": "Python 3",
   "language": "python",
   "name": "python3"
  },
  "language_info": {
   "codemirror_mode": {
    "name": "ipython",
    "version": 3
   },
   "file_extension": ".py",
   "mimetype": "text/x-python",
   "name": "python",
   "nbconvert_exporter": "python",
   "pygments_lexer": "ipython3",
   "version": "3.6.0"
  }
 },
 "nbformat": 4,
 "nbformat_minor": 2
}
