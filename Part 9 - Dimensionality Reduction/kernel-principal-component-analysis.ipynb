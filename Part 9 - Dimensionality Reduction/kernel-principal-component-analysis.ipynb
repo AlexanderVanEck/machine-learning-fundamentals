{
 "cells": [
  {
   "cell_type": "code",
   "execution_count": 26,
   "metadata": {},
   "outputs": [],
   "source": [
    "from matplotlib.colors import ListedColormap\n",
    "import matplotlib.pyplot as plot\n",
    "import numpy as np\n",
    "import pandas as pd\n",
    "from sklearn.decomposition import KernelPCA\n",
    "from sklearn.model_selection import train_test_split\n",
    "from sklearn.linear_model import LogisticRegression\n",
    "from sklearn.metrics import confusion_matrix\n",
    "from sklearn.preprocessing import StandardScaler"
   ]
  },
  {
   "cell_type": "code",
   "execution_count": 27,
   "metadata": {},
   "outputs": [],
   "source": [
    "dataset = pd.read_csv('datasets/ads.csv')\n",
    "X = dataset.iloc[:, [2, 3]].values\n",
    "y = dataset.iloc[:, 4].values"
   ]
  },
  {
   "cell_type": "code",
   "execution_count": 28,
   "metadata": {
    "collapsed": true
   },
   "outputs": [],
   "source": [
    "X_train, X_test, y_train, y_test = train_test_split(\n",
    "    X, y, test_size=1/4, random_state=0\n",
    ")"
   ]
  },
  {
   "cell_type": "code",
   "execution_count": 29,
   "metadata": {},
   "outputs": [
    {
     "name": "stderr",
     "output_type": "stream",
     "text": [
      "/Users/Alexander/Virtualenvs/ml-data-processing/lib/python3.6/site-packages/sklearn/utils/validation.py:444: DataConversionWarning: Data with input dtype int64 was converted to float64 by StandardScaler.\n",
      "  warnings.warn(msg, DataConversionWarning)\n"
     ]
    }
   ],
   "source": [
    "scaler = StandardScaler()\n",
    "X_train = scaler.fit_transform(X_train)\n",
    "X_test = scaler.transform(X_test)"
   ]
  },
  {
   "cell_type": "code",
   "execution_count": 34,
   "metadata": {},
   "outputs": [],
   "source": [
    "# in order to visualise our classifier we want to extract the variables that\n",
    "# explain the most variance. The KernelPCA class will take care of this by first using the\n",
    "# kernel trick and then applying PCA to this new space.\n",
    "kpca = KernelPCA(n_components=2, kernel='rbf')\n",
    "X_train = kpca.fit_transform(X_train)\n",
    "X_test = kpca.transform(X_test)"
   ]
  },
  {
   "cell_type": "code",
   "execution_count": 35,
   "metadata": {
    "collapsed": true
   },
   "outputs": [],
   "source": [
    "# Here we initialise the classifier, the LogisticRegression classifier is basically a\n",
    "# straight line through our dataset, where everything above a threshold between 0..1\n",
    "# (usually 0.5) will result to 1, and everything below will be 0.\n",
    "classifier = LogisticRegression(random_state=0)\n",
    "classifier = classifier.fit(X_train, y_train)"
   ]
  },
  {
   "cell_type": "code",
   "execution_count": 36,
   "metadata": {},
   "outputs": [
    {
     "data": {
      "text/plain": [
       "array([[64,  4],\n",
       "       [ 6, 26]])"
      ]
     },
     "execution_count": 36,
     "metadata": {},
     "output_type": "execute_result"
    }
   ],
   "source": [
    "# in order to see the accuracy of this model we use a confusion matrix\n",
    "y_prediction = classifier.predict(X_test)\n",
    "matrix = confusion_matrix(y_test, y_prediction)\n",
    "matrix\n",
    "# we can see that there's 65 + 24 = 89 correct predictions and 3 + 8 = 11 incorrect predictions"
   ]
  },
  {
   "cell_type": "code",
   "execution_count": 38,
   "metadata": {},
   "outputs": [
    {
     "data": {
      "image/png": "[encoded data removed]",
      "text/plain": [
       "<matplotlib.figure.Figure at 0x1107bbdd8>"
      ]
     },
     "metadata": {},
     "output_type": "display_data"
    },
    {
     "data": {
      "image/png": "[encoded data removed]",
      "text/plain": [
       "<matplotlib.figure.Figure at 0x10ea45b00>"
      ]
     },
     "metadata": {},
     "output_type": "display_data"
    }
   ],
   "source": [
    "# now we create a plotting function and plot our train and test sets\n",
    "def plot_classifier(X_set, y_set, set_description='Training'):\n",
    "    \"\"\"\n",
    "    We visualise the decision boundary. First create a new meshgrid from\n",
    "    our test set and fill it with datapoints for every value of 0.01\n",
    "    in between our min and max of the first and second column.\n",
    "    Subtracting and adding 1 to each, so our datapoints don't \n",
    "    get squashed up to the sides of the graph.\n",
    "    \"\"\"\n",
    "    X1, X2 = np.meshgrid(\n",
    "        np.arange(start=X_set[:, 0].min() - 1, stop=X_set[:, 0].max() + 1, step=0.01),\n",
    "        np.arange(start=X_set[:, 1].min() - 1, stop=X_set[:, 1].max() + 1, step=0.01)\n",
    "    )\n",
    "    # we then go over each data point in our new mesh and predict if the value is 0 or 1 and apply\n",
    "    # a color to it.\n",
    "    plot.contourf(\n",
    "        X1, X2, \n",
    "        classifier.predict(np.array([X1.ravel(), X2.ravel()]).T).reshape(X1.shape),\n",
    "        alpha=0.75,\n",
    "        cmap=ListedColormap(('red', 'green'))\n",
    "     )\n",
    "    # we set the limits of the graph to the limits of our mesh grid.\n",
    "    plot.xlim(X1.min(), X1.max())\n",
    "    plot.ylim(X2.min(), X2.max())\n",
    "\n",
    "    # and add our training set data points.\n",
    "    for i, j in enumerate(np.unique(y_set)):\n",
    "        plot.scatter(\n",
    "            X_set[y_set == j, 0],\n",
    "            X_set[y_set == j, 1],\n",
    "            c=ListedColormap(('red', 'green'))(i),\n",
    "            label=j\n",
    "        )\n",
    "\n",
    "    plot.title(f'Kernel Principal Component Analysis ({set_description})')\n",
    "    plot.xlabel('LD1')\n",
    "    plot.ylabel('LD2')\n",
    "    plot.legend()\n",
    "    plot.show()\n",
    "\n",
    "plot_classifier(X_train, y_train)\n",
    "plot_classifier(X_test, y_test, 'Testing')"
   ]
  },
  {
   "cell_type": "code",
   "execution_count": null,
   "metadata": {
    "collapsed": true
   },
   "outputs": [],
   "source": []
  }
 ],
 "metadata": {
  "kernelspec": {
   "display_name": "Python 3",
   "language": "python",
   "name": "python3"
  },
  "language_info": {
   "codemirror_mode": {
    "name": "ipython",
    "version": 3
   },
   "file_extension": ".py",
   "mimetype": "text/x-python",
   "name": "python",
   "nbconvert_exporter": "python",
   "pygments_lexer": "ipython3",
   "version": "3.6.0"
  }
 },
 "nbformat": 4,
 "nbformat_minor": 2
}
