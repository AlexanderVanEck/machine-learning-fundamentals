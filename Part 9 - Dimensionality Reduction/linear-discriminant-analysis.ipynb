{
 "cells": [
  {
   "cell_type": "code",
   "execution_count": 1,
   "metadata": {
    "collapsed": true
   },
   "outputs": [],
   "source": [
    "from matplotlib.colors import ListedColormap\n",
    "import matplotlib.pyplot as plot\n",
    "import numpy as np\n",
    "import pandas as pd\n",
    "from sklearn.discriminant_analysis import LinearDiscriminantAnalysis\n",
    "from sklearn.model_selection import train_test_split\n",
    "from sklearn.preprocessing import StandardScaler\n",
    "from sklearn.linear_model import LogisticRegression\n",
    "from sklearn.metrics import confusion_matrix"
   ]
  },
  {
   "cell_type": "code",
   "execution_count": 2,
   "metadata": {
    "collapsed": true
   },
   "outputs": [],
   "source": [
    "dataset = pd.read_csv('datasets/wines.csv')\n",
    "X = dataset.iloc[:, :-1]\n",
    "y = dataset.iloc[:, -1]"
   ]
  },
  {
   "cell_type": "code",
   "execution_count": 3,
   "metadata": {
    "collapsed": true
   },
   "outputs": [],
   "source": [
    "X_train, X_test, y_train, y_test = train_test_split(\n",
    "    X, y, test_size=1/5, random_state=0\n",
    ")"
   ]
  },
  {
   "cell_type": "code",
   "execution_count": 4,
   "metadata": {
    "collapsed": true
   },
   "outputs": [],
   "source": [
    "scaler = StandardScaler()\n",
    "X_train = scaler.fit_transform(X_train)\n",
    "X_test = scaler.transform(X_test)"
   ]
  },
  {
   "cell_type": "code",
   "execution_count": 5,
   "metadata": {
    "collapsed": true
   },
   "outputs": [],
   "source": [
    "# in order to visualise our classifier we want to extract the variables that\n",
    "# explain the most variance. The LDA class will take care of this by looking at which\n",
    "# independant variables seperate the dependant variable as much as possible. We want\n",
    "lda = LinearDiscriminantAnalysis(n_components=2)\n",
    "X_train = lda.fit_transform(X_train, y_train)\n",
    "X_test = lda.transform(X_test)"
   ]
  },
  {
   "cell_type": "code",
   "execution_count": 6,
   "metadata": {
    "collapsed": true
   },
   "outputs": [],
   "source": [
    "classifier = LogisticRegression(random_state=0)\n",
    "classifier = classifier.fit(X_train, y_train)"
   ]
  },
  {
   "cell_type": "code",
   "execution_count": 7,
   "metadata": {},
   "outputs": [
    {
     "data": {
      "text/plain": [
       "array([[14,  0,  0],\n",
       "       [ 0, 16,  0],\n",
       "       [ 0,  0,  6]])"
      ]
     },
     "execution_count": 7,
     "metadata": {},
     "output_type": "execute_result"
    }
   ],
   "source": [
    "# great results as seen by the confusion matrix\n",
    "confusion_matrix(y_test, classifier.predict(X_test))"
   ]
  },
  {
   "cell_type": "code",
   "execution_count": 9,
   "metadata": {},
   "outputs": [
    {
     "data": {
      "image/png": "[encoded data removed]",
      "text/plain": [
       "<matplotlib.figure.Figure at 0x1186fdc88>"
      ]
     },
     "metadata": {},
     "output_type": "display_data"
    },
    {
     "data": {
      "image/png": "[encoded data removed]",
      "text/plain": [
       "<matplotlib.figure.Figure at 0x10d5e4128>"
      ]
     },
     "metadata": {},
     "output_type": "display_data"
    }
   ],
   "source": [
    "# now we create a plotting function and plot our train and test sets\n",
    "def plot_classifier(X_set, y_set, set_description='Training'):\n",
    "    \"\"\"\n",
    "    We visualise the decision boundary. First create a new meshgrid from\n",
    "    our test set and fill it with datapoints for every value of 0.01\n",
    "    in between our min and max of the first and second column.\n",
    "    Subtracting and adding 1 to each, so our datapoints don't \n",
    "    get squashed up to the sides of the graph.\n",
    "    \"\"\"\n",
    "    X1, X2 = np.meshgrid(\n",
    "        np.arange(start=X_set[:, 0].min() - 1, stop=X_set[:, 0].max() + 1, step=0.01),\n",
    "        np.arange(start=X_set[:, 1].min() - 1, stop=X_set[:, 1].max() + 1, step=0.01)\n",
    "    )\n",
    "    # we then go over each data point in our new mesh and predict if the value is 0 or 1 and apply\n",
    "    # a color to it.\n",
    "    plot.contourf(\n",
    "        X1, X2, \n",
    "        classifier.predict(np.array([X1.ravel(), X2.ravel()]).T).reshape(X1.shape),\n",
    "        alpha=0.75,\n",
    "        cmap=ListedColormap(('red', 'green', 'blue'))\n",
    "     )\n",
    "    # we set the limits of the graph to the limits of our mesh grid.\n",
    "    plot.xlim(X1.min(), X1.max())\n",
    "    plot.ylim(X2.min(), X2.max())\n",
    "\n",
    "    # and add our training set data points.\n",
    "    for i, j in enumerate(np.unique(y_set)):\n",
    "        plot.scatter(\n",
    "            X_set[y_set == j, 0],\n",
    "            X_set[y_set == j, 1],\n",
    "            c=ListedColormap(('red', 'green', 'blue'))(i),\n",
    "            label=j\n",
    "        )\n",
    "\n",
    "    plot.title(f'Linear Discriminant Analysis ({set_description})')\n",
    "    plot.xlabel('LD1')\n",
    "    plot.ylabel('LD2')\n",
    "    plot.legend()\n",
    "    plot.show()\n",
    "\n",
    "plot_classifier(X_train, y_train)\n",
    "plot_classifier(X_test, y_test, 'Testing')"
   ]
  },
  {
   "cell_type": "code",
   "execution_count": null,
   "metadata": {
    "collapsed": true
   },
   "outputs": [],
   "source": []
  }
 ],
 "metadata": {
  "kernelspec": {
   "display_name": "Python 3",
   "language": "python",
   "name": "python3"
  },
  "language_info": {
   "codemirror_mode": {
    "name": "ipython",
    "version": 3
   },
   "file_extension": ".py",
   "mimetype": "text/x-python",
   "name": "python",
   "nbconvert_exporter": "python",
   "pygments_lexer": "ipython3",
   "version": "3.6.0"
  }
 },
 "nbformat": 4,
 "nbformat_minor": 2
}
