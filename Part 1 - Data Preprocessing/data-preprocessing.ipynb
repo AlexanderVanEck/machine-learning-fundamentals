{
 "cells": [
  {
   "cell_type": "code",
   "execution_count": 114,
   "metadata": {},
   "outputs": [],
   "source": [
    "import numpy as np\n",
    "import matplotlib.pyplot as plt\n",
    "import pandas as pd\n",
    "from sklearn.preprocessing import (\n",
    "    Imputer, LabelEncoder, OneHotEncoder, StandardScaler\n",
    ")\n",
    "from sklearn.cross_validation import train_test_split"
   ]
  },
  {
   "cell_type": "code",
   "execution_count": 115,
   "metadata": {},
   "outputs": [],
   "source": [
    "# load the dataset into pandas\n",
    "dataset = pd.read_csv('datasets/data.csv')\n",
    "# load the feature set into X (the independant variables)\n",
    "X = dataset.iloc[:, :-1].values\n",
    "# load the predicted label into y (the dependant variable)\n",
    "y = dataset.iloc[:, 3].values"
   ]
  },
  {
   "cell_type": "code",
   "execution_count": 116,
   "metadata": {},
   "outputs": [],
   "source": [
    "# If there's missing data in the feature set we fill it with the mean\n",
    "# of the column it is missing. The other values in feature set can then\n",
    "# still be used and the missing values does not skew the output.\n",
    "#\n",
    "# Since our feature set consists of categorical and numeric data we\n",
    "# can only use the imputer on our absolute values, there's no mean of \n",
    "# categorical features.\n",
    "\n",
    "# Missing values are empty columns, expressed as NaN in pandas.\n",
    "# The strategy is mean and axis is 0 for taking the mean of the column.\n",
    "imputer = Imputer(missing_values='NaN', strategy='mean', axis=0)\n",
    "# the lower bound is inclusive, the upper bound is exclusive.\n",
    "# [1:3] select columns 1 and 2\n",
    "importer = imputer.fit(X[:,1:3])\n",
    "# now we set the transformed data back into X, missing data is now filled\n",
    "X[:, 1:3] = imputer.transform(X[:, 1:3])"
   ]
  },
  {
   "cell_type": "code",
   "execution_count": 117,
   "metadata": {},
   "outputs": [],
   "source": [
    "# Now we convert our categorical data to numerical data, firstly \n",
    "# by changing the categories to numbers.\n",
    "label_encoder = LabelEncoder()\n",
    "X[:, 0] = label_encoder.fit_transform(X[:, 0])\n",
    "\n",
    "# If we left our conversion here the model will think one country is\n",
    "# better than the others. Since 2 > 1 > 0.\n",
    "# Therefore we use One Hot Encoding to create three columns to \n",
    "# seperate the categories into 1 and 0 values.\n",
    "one_hot_encoder = OneHotEncoder(categorical_features=[0])\n",
    "X = one_hot_encoder.fit_transform(X).toarray()\n",
    "\n",
    "# Luckily our predicted label only has 2 values. So it can be label\n",
    "# encoded without a risk of confusing the model, it is then already\n",
    "# One Hot Encoded.\n",
    "label_encoder = LabelEncoder()\n",
    "y = label_encoder.fit_transform(y)"
   ]
  },
  {
   "cell_type": "code",
   "execution_count": 118,
   "metadata": {},
   "outputs": [],
   "source": [
    "# In order to measure how well our model performs predicting the label\n",
    "# from the feature sets, we split the dataset into training and testing\n",
    "# data. First the model will fit on the training data and then we'll\n",
    "# measure it's accuracy on the testing data. The ratio between training\n",
    "# and testing data is usually 75%/25%, we'll use a 80/20 split. \n",
    "\n",
    "X_train, X_test, y_train, y_test = train_test_split(\n",
    "    X, y, test_size=0.2, random_state=0\n",
    ")"
   ]
  },
  {
   "cell_type": "code",
   "execution_count": 119,
   "metadata": {},
   "outputs": [],
   "source": [
    "# Each independant variable is equal in the dataset, however the numerical\n",
    "# values are not in the same scale. This means that higher numerical\n",
    "# ranges will dominate lower numerical ranges.\n",
    "# (f.e. column 2 dominating column 1)\n",
    "# We use the StandardScaler, fitted to our training data, to standardise\n",
    "# our feature sets to the same scale. The standardised value is\n",
    "# the value minus the mean value of the column divided by the standard\n",
    "# deviation of the value  \n",
    "standard_scaler = StandardScaler()\n",
    "X_train = standard_scaler.fit_transform(X_train)\n",
    "X_test = standard_scaler.transform(X_test)"
   ]
  }
 ],
 "metadata": {
  "kernelspec": {
   "display_name": "Python 3",
   "language": "python",
   "name": "python3"
  },
  "language_info": {
   "codemirror_mode": {
    "name": "ipython",
    "version": 3
   },
   "file_extension": ".py",
   "mimetype": "text/x-python",
   "name": "python",
   "nbconvert_exporter": "python",
   "pygments_lexer": "ipython3",
   "version": "3.6.0"
  }
 },
 "nbformat": 4,
 "nbformat_minor": 2
}
