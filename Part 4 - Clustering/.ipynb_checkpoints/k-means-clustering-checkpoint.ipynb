{
 "cells": [
  {
   "cell_type": "code",
   "execution_count": 3,
   "metadata": {
    "collapsed": true
   },
   "outputs": [],
   "source": [
    "import matplotlib.pyplot as plot\n",
    "import numpy as np\n",
    "import pandas as pd\n",
    "from sklearn.cluster import KMeans"
   ]
  },
  {
   "cell_type": "code",
   "execution_count": 4,
   "metadata": {
    "collapsed": true
   },
   "outputs": [],
   "source": [
    "dataset = pd.read_csv('datasets/customers.csv')\n",
    "X = dataset.iloc[:, [3,4]].values"
   ]
  },
  {
   "cell_type": "code",
   "execution_count": 5,
   "metadata": {},
   "outputs": [
    {
     "data": {
      "image/png": "[encoded data removed]",
      "text/plain": [
       "<matplotlib.figure.Figure at 0x1090c2be0>"
      ]
     },
     "metadata": {},
     "output_type": "display_data"
    }
   ],
   "source": [
    "# With the k-means clustering algorithm we are going to cluster\n",
    "# our dataset into multiple clusters. First we have to find the optimal\n",
    "# amount of clusters.\n",
    "wcss = []\n",
    "# we iterate 10 times to try to find the most optimal amount\n",
    "# of clusters < 10\n",
    "for i in range(10):\n",
    "    amount_of_clusters = i + 1\n",
    "    # The init argument is used to avoid the K-Mean random init trap.\n",
    "    kmeans = KMeans(\n",
    "        n_clusters=amount_of_clusters,\n",
    "        init='k-means++', \n",
    "        max_iter=300, \n",
    "        n_init=10\n",
    "    )\n",
    "    kmeans = kmeans.fit(X)\n",
    "    # the WCSS of a kmeans cluster is also called it's inertia.\n",
    "    wcss.append(kmeans.inertia_)\n",
    "    \n",
    "# now visualize the elbow curve\n",
    "plot.title('The K-means elbow method')\n",
    "plot.xlabel('Number of clusters')\n",
    "plot.ylabel('WCSS (inertia)')\n",
    "plot.plot(range(1, 11), wcss)\n",
    "plot.show()"
   ]
  },
  {
   "cell_type": "code",
   "execution_count": 6,
   "metadata": {
    "collapsed": true
   },
   "outputs": [],
   "source": [
    "# from the above plot we can conclude that the most optimal amount\n",
    "# of clusters is 5. We will now classify each customer into one of these\n",
    "# 5 clusters.\n",
    "clusterer = KMeans(\n",
    "    n_clusters=5,\n",
    "    init='k-means++', \n",
    "    max_iter=300, \n",
    "    n_init=10,\n",
    "    random_state=0\n",
    ")\n",
    "y_clusters = clusterer.fit_predict(X)"
   ]
  },
  {
   "cell_type": "code",
   "execution_count": 1,
   "metadata": {},
   "outputs": [
    {
     "ename": "NameError",
     "evalue": "name 'plot' is not defined",
     "output_type": "error",
     "traceback": [
      "\u001b[0;31m---------------------------------------------------------------------------\u001b[0m",
      "\u001b[0;31mNameError\u001b[0m                                 Traceback (most recent call last)",
      "\u001b[0;32m<ipython-input-1-3078fc5eb0a1>\u001b[0m in \u001b[0;36m<module>\u001b[0;34m()\u001b[0m\n\u001b[1;32m      8\u001b[0m ]\n\u001b[1;32m      9\u001b[0m \u001b[0;32mfor\u001b[0m \u001b[0mi\u001b[0m \u001b[0;32min\u001b[0m \u001b[0mrange\u001b[0m\u001b[0;34m(\u001b[0m\u001b[0;36m5\u001b[0m\u001b[0;34m)\u001b[0m\u001b[0;34m:\u001b[0m\u001b[0;34m\u001b[0m\u001b[0m\n\u001b[0;32m---> 10\u001b[0;31m     plot.scatter(\n\u001b[0m\u001b[1;32m     11\u001b[0m         \u001b[0mX\u001b[0m\u001b[0;34m[\u001b[0m\u001b[0my_clusters\u001b[0m \u001b[0;34m==\u001b[0m \u001b[0mi\u001b[0m\u001b[0;34m,\u001b[0m \u001b[0;36m0\u001b[0m\u001b[0;34m]\u001b[0m\u001b[0;34m,\u001b[0m \u001b[0mX\u001b[0m\u001b[0;34m[\u001b[0m\u001b[0my_clusters\u001b[0m \u001b[0;34m==\u001b[0m \u001b[0mi\u001b[0m\u001b[0;34m,\u001b[0m \u001b[0;36m1\u001b[0m\u001b[0;34m]\u001b[0m\u001b[0;34m,\u001b[0m\u001b[0;34m\u001b[0m\u001b[0m\n\u001b[1;32m     12\u001b[0m         \u001b[0mlabel\u001b[0m\u001b[0;34m=\u001b[0m\u001b[0mlabels\u001b[0m\u001b[0;34m[\u001b[0m\u001b[0mi\u001b[0m\u001b[0;34m]\u001b[0m\u001b[0;34m\u001b[0m\u001b[0m\n",
      "\u001b[0;31mNameError\u001b[0m: name 'plot' is not defined"
     ]
    }
   ],
   "source": [
    "# Visualising each cluster\n",
    "labels = [\n",
    "    'Careful',\n",
    "    'Standard',\n",
    "    'Target',\n",
    "    'Careless',\n",
    "    'Sensible',\n",
    "]\n",
    "for i in range(5):\n",
    "    plot.scatter(\n",
    "        X[y_clusters == i, 0], X[y_clusters == i, 1],\n",
    "        label=labels[i]\n",
    "    )\n",
    "# and visualize the cluster centeroids\n",
    "plot.scatter(\n",
    "    clusterer.cluster_centers_[:, 0], clusterer.cluster_centers_[:, 1],\n",
    "    s=100, \n",
    "    label='Centroids'\n",
    ")\n",
    "plot.title('Clusters of customers')\n",
    "plot.xlabel('Annual Income (k$)')\n",
    "plot.ylabel('Spending Score (1..100)')\n",
    "plot.legend()\n",
    "plot.show()"
   ]
  },
  {
   "cell_type": "code",
   "execution_count": null,
   "metadata": {
    "collapsed": true
   },
   "outputs": [],
   "source": []
  },
  {
   "cell_type": "code",
   "execution_count": null,
   "metadata": {
    "collapsed": true
   },
   "outputs": [],
   "source": []
  }
 ],
 "metadata": {
  "kernelspec": {
   "display_name": "Python 3",
   "language": "python",
   "name": "python3"
  },
  "language_info": {
   "codemirror_mode": {
    "name": "ipython",
    "version": 3
   },
   "file_extension": ".py",
   "mimetype": "text/x-python",
   "name": "python",
   "nbconvert_exporter": "python",
   "pygments_lexer": "ipython3",
   "version": "3.6.0"
  }
 },
 "nbformat": 4,
 "nbformat_minor": 2
}
